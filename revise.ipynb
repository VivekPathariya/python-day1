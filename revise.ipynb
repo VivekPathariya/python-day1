{
 "cells": [
  {
   "cell_type": "markdown",
   "id": "c861336c",
   "metadata": {},
   "source": [
    "# INPUT-OUTPUT"
   ]
  },
  {
   "cell_type": "markdown",
   "id": "c7022c1f",
   "metadata": {},
   "source": [
    "Q-1 WAP to accept integer input from user."
   ]
  },
  {
   "cell_type": "code",
   "execution_count": 9,
   "id": "307dd10e",
   "metadata": {},
   "outputs": [
    {
     "name": "stdout",
     "output_type": "stream",
     "text": [
      "Please enter the integer value\n"
     ]
    }
   ],
   "source": [
    "try:\n",
    " integer_input = int(input(\"\"))\n",
    " print(integer_input)\n",
    "except:\n",
    "    print(\"Please enter the integer value\")"
   ]
  },
  {
   "cell_type": "markdown",
   "id": "121ad8c7",
   "metadata": {},
   "source": [
    "Q2. Write a python program to take input from user age then increase his/her age by 10 years."
   ]
  },
  {
   "cell_type": "code",
   "execution_count": 10,
   "id": "eeb13e7f",
   "metadata": {},
   "outputs": [
    {
     "name": "stdout",
     "output_type": "stream",
     "text": [
      "35\n"
     ]
    }
   ],
   "source": [
    "try:\n",
    "    age = int(input(\"\"))\n",
    "    print(age+10)\n",
    "except:\n",
    "    print(\"Enter the age (only integer value)\")\n",
    "    "
   ]
  },
  {
   "cell_type": "markdown",
   "id": "8b6bfb5a",
   "metadata": {},
   "source": [
    "Q3.  Take input user name ,  age  , height  then print output as “my name is (your name),my age is (you age), and height is (your age)” . "
   ]
  },
  {
   "cell_type": "code",
   "execution_count": null,
   "id": "36b484b4",
   "metadata": {},
   "outputs": [
    {
     "name": "stdout",
     "output_type": "stream",
     "text": [
      "My name is vivek my age is  25 my height is 6.2\n"
     ]
    }
   ],
   "source": [
    "name = input(\"\")\n",
    "age = int(input(\"\"))\n",
    "height= float(input(\"\"))\n",
    "print(\"My name is\",name,\"my age is\",age,\"my height is\",height)\n"
   ]
  },
  {
   "cell_type": "markdown",
   "id": "5eab02a5",
   "metadata": {},
   "source": [
    "Q4. How do you input a floating-point number from the user and store it in a variable called price?"
   ]
  },
  {
   "cell_type": "code",
   "execution_count": 12,
   "id": "451393e4",
   "metadata": {},
   "outputs": [
    {
     "name": "stdout",
     "output_type": "stream",
     "text": [
      "0.5\n"
     ]
    }
   ],
   "source": [
    "price = float(input(\"\"))\n",
    "print(price)"
   ]
  },
  {
   "cell_type": "markdown",
   "id": "a1c8f1f7",
   "metadata": {},
   "source": [
    "Q5. Write a Python program that asks the user for two numbers and then prints their sum"
   ]
  },
  {
   "cell_type": "code",
   "execution_count": null,
   "id": "ed104a1b",
   "metadata": {},
   "outputs": [],
   "source": [
    "num1= int(input(\"\"))\n",
    "num2=int(input(\"\"))\n",
    "print(num1+num2)"
   ]
  },
  {
   "cell_type": "markdown",
   "id": "959e879d",
   "metadata": {},
   "source": [
    "Q6.Write a Python program that asks the user for their age and then prints a message stating their age."
   ]
  },
  {
   "cell_type": "code",
   "execution_count": null,
   "id": "a079b332",
   "metadata": {},
   "outputs": [],
   "source": [
    "age = int(input(\"\"))\n",
    "print(\"stating their age :\",age)\n"
   ]
  },
  {
   "cell_type": "markdown",
   "id": "8213c15d",
   "metadata": {},
   "source": [
    "Q7.Write a Python program that asks the user for the radius of a circle and then prints the area of the circle."
   ]
  },
  {
   "cell_type": "code",
   "execution_count": 14,
   "id": "c8802eda",
   "metadata": {},
   "outputs": [
    {
     "name": "stdout",
     "output_type": "stream",
     "text": [
      "12.56\n"
     ]
    }
   ],
   "source": [
    "rad = int(input(\"\"))\n",
    "print(3.14*rad**2)\n"
   ]
  },
  {
   "cell_type": "markdown",
   "id": "74254e03",
   "metadata": {},
   "source": [
    "Q8. How do you take a string input from the user and convert it to an integer?"
   ]
  },
  {
   "cell_type": "code",
   "execution_count": 15,
   "id": "cfea6bcd",
   "metadata": {},
   "outputs": [
    {
     "name": "stdout",
     "output_type": "stream",
     "text": [
      "<class 'str'>\n",
      "<class 'int'>\n"
     ]
    }
   ],
   "source": [
    "string = input(\"\")\n",
    "con_int=int(string)\n",
    "print(type(string))\n",
    "print(type(con_int))"
   ]
  },
  {
   "cell_type": "markdown",
   "id": "2c6248ee",
   "metadata": {},
   "source": [
    "Q9. Write a Python program that asks the user for their height in feet and converts it to meters (1 foot = 0.3048 meters)."
   ]
  },
  {
   "cell_type": "code",
   "execution_count": 18,
   "id": "70a8da05",
   "metadata": {},
   "outputs": [
    {
     "name": "stdout",
     "output_type": "stream",
     "text": [
      "1.88976\n"
     ]
    }
   ],
   "source": [
    "height = float(input(\"\"))\n",
    "print(height*0.3048)"
   ]
  },
  {
   "cell_type": "markdown",
   "id": "a8efa09b",
   "metadata": {},
   "source": [
    "Q10. Write a Python program that takes three inputs from the user: two integers and one floating-point number. Your task is to print these three values in the following format:"
   ]
  },
  {
   "cell_type": "code",
   "execution_count": null,
   "id": "2c4acb8b",
   "metadata": {},
   "outputs": [
    {
     "name": "stdout",
     "output_type": "stream",
     "text": [
      "5 10 3.14\n"
     ]
    }
   ],
   "source": [
    "integer1 = int(input(\"\"))\n",
    "integer2 =int(input(\"\"))\n",
    "float_num= float(input(\"\"))\n",
    "print(integer1,integer2,float_num)"
   ]
  },
  {
   "cell_type": "markdown",
   "id": "0da9c20a",
   "metadata": {},
   "source": [
    "# OPERATOR\n"
   ]
  },
  {
   "cell_type": "markdown",
   "id": "d8f87171",
   "metadata": {},
   "source": [
    "1.\tWrite a Python expression that adds two numbers: 7 and 5.\n",
    "a= 7\n",
    "b= 5\n"
   ]
  },
  {
   "cell_type": "code",
   "execution_count": 23,
   "id": "de28e934",
   "metadata": {},
   "outputs": [
    {
     "name": "stdout",
     "output_type": "stream",
     "text": [
      "12\n"
     ]
    }
   ],
   "source": [
    "num1=int(input(\"\"))\n",
    "num2=int(input(\"\"))\n",
    "Total_Sum=num1+num2\n",
    "print(Total_Sum)\n"
   ]
  },
  {
   "cell_type": "markdown",
   "id": "c9c95053",
   "metadata": {},
   "source": [
    "2.\tSubtract 4 from 9 using Python."
   ]
  },
  {
   "cell_type": "code",
   "execution_count": 24,
   "id": "1cc20209",
   "metadata": {},
   "outputs": [
    {
     "name": "stdout",
     "output_type": "stream",
     "text": [
      "0\n"
     ]
    }
   ],
   "source": [
    "num1=int(input(\"\"))\n",
    "num2=int(input(\"\"))\n",
    "Total_Sum=num1-num2\n",
    "print(Total_Sum)"
   ]
  },
  {
   "cell_type": "markdown",
   "id": "c91377ae",
   "metadata": {},
   "source": [
    "3.\tMultiply 6 by 8 in Python.\n",
    "        a= 6\n",
    "        b =8\n"
   ]
  },
  {
   "cell_type": "code",
   "execution_count": null,
   "id": "4ea5aad9",
   "metadata": {},
   "outputs": [],
   "source": [
    "num1=int(input(\"\"))\n",
    "num2=int(input(\"\"))\n",
    "Total_Sum=num1*num2\n",
    "print(Total_Sum)"
   ]
  },
  {
   "cell_type": "markdown",
   "id": "bc6e485a",
   "metadata": {},
   "source": [
    "4.\tPerform floor division(integer division) on 15 by 2. "
   ]
  },
  {
   "cell_type": "code",
   "execution_count": null,
   "id": "12916cd4",
   "metadata": {},
   "outputs": [],
   "source": [
    "num1=int(input(\"\"))\n",
    "num2=int(input(\"\"))\n",
    "Total_Sum=num1//num2\n",
    "print(Total_Sum)"
   ]
  },
  {
   "cell_type": "markdown",
   "id": "8dbc8894",
   "metadata": {},
   "source": [
    "5.\tFind the remainder when 22 is divided by 5."
   ]
  },
  {
   "cell_type": "code",
   "execution_count": 25,
   "id": "edf8897c",
   "metadata": {},
   "outputs": [
    {
     "name": "stdout",
     "output_type": "stream",
     "text": [
      "5.0\n"
     ]
    }
   ],
   "source": [
    "num1=int(input(\"\"))\n",
    "num2=int(input(\"\"))\n",
    "Total_Sum=num1/num2\n",
    "print(Total_Sum)"
   ]
  },
  {
   "cell_type": "markdown",
   "id": "5db8502f",
   "metadata": {},
   "source": [
    "6.\tFind the remainder when -22 is divided by 8."
   ]
  },
  {
   "cell_type": "code",
   "execution_count": null,
   "id": "1cfa22ec",
   "metadata": {},
   "outputs": [],
   "source": [
    "num1=int(input(\"\"))\n",
    "num2=int(input(\"\"))\n",
    "Total_Sum=num1%num2\n",
    "print(Total_Sum)"
   ]
  },
  {
   "cell_type": "markdown",
   "id": "98c5ce30",
   "metadata": {},
   "source": [
    "7.\tDetermine if 8 is greater than 6."
   ]
  },
  {
   "cell_type": "code",
   "execution_count": 26,
   "id": "a8681b36",
   "metadata": {},
   "outputs": [
    {
     "name": "stdout",
     "output_type": "stream",
     "text": [
      "True\n"
     ]
    }
   ],
   "source": [
    "print(8>6)"
   ]
  },
  {
   "cell_type": "markdown",
   "id": "0ee05ee3",
   "metadata": {},
   "source": [
    "8.Determine if 5 is less than 10. 5< 10"
   ]
  },
  {
   "cell_type": "code",
   "execution_count": 27,
   "id": "072d1061",
   "metadata": {},
   "outputs": [
    {
     "name": "stdout",
     "output_type": "stream",
     "text": [
      "False\n"
     ]
    }
   ],
   "source": [
    "print(10.5<10)"
   ]
  },
  {
   "cell_type": "markdown",
   "id": "f9f90572",
   "metadata": {},
   "source": [
    "\n",
    "9.Check if 7 is greater than or equal to 7."
   ]
  },
  {
   "cell_type": "code",
   "execution_count": 28,
   "id": "55fd5a3f",
   "metadata": {},
   "outputs": [
    {
     "name": "stdout",
     "output_type": "stream",
     "text": [
      "True\n"
     ]
    }
   ],
   "source": [
    "print(7>=7)"
   ]
  },
  {
   "cell_type": "markdown",
   "id": "21c7110f",
   "metadata": {},
   "source": [
    " 10.  Calculate the result of (3 + 5) * 2 - 4 / 2 % 3 using     Python operators ( use pen copy to solve question)"
   ]
  },
  {
   "cell_type": "code",
   "execution_count": 29,
   "id": "590dd5a1",
   "metadata": {},
   "outputs": [
    {
     "name": "stdout",
     "output_type": "stream",
     "text": [
      "14.0\n"
     ]
    }
   ],
   "source": [
    "print((3 + 5) * 2 - 4 / 2 % 3 )"
   ]
  },
  {
   "cell_type": "markdown",
   "id": "7d03bc98",
   "metadata": {},
   "source": [
    "11.Evaluate the expression (7 ** 2 + 6 // 3) * (8 % 3 - 2)"
   ]
  },
  {
   "cell_type": "code",
   "execution_count": 30,
   "id": "16c302b8",
   "metadata": {},
   "outputs": [
    {
     "name": "stdout",
     "output_type": "stream",
     "text": [
      "0\n"
     ]
    }
   ],
   "source": [
    "print((7 ** 2 + 6 // 3) * (8 % 3 - 2))"
   ]
  },
  {
   "cell_type": "markdown",
   "id": "c692435f",
   "metadata": {},
   "source": [
    "# IF - ELSE\n"
   ]
  },
  {
   "cell_type": "markdown",
   "id": "e2805d4a",
   "metadata": {},
   "source": [
    "Q1. W.A.P  to check if a number is positive, negative."
   ]
  },
  {
   "cell_type": "code",
   "execution_count": null,
   "id": "5a6ac75a",
   "metadata": {},
   "outputs": [
    {
     "name": "stdout",
     "output_type": "stream",
     "text": [
      "negetive number\n"
     ]
    }
   ],
   "source": [
    "try:\n",
    "    num = int(input(\"\"))\n",
    "    if num>0:\n",
    "       print(\"Positive number\")\n",
    "    else:\n",
    "       print(\"negative number\")\n",
    "except:\n",
    "    print(\"Please enter the integer number\")"
   ]
  },
  {
   "cell_type": "markdown",
   "id": "a6d140f2",
   "metadata": {},
   "source": [
    "Q2 W.A.P that takes 2 numbers input from user check their sum is greater then 10 or not . if greater than 10 print ‘greater’ otherwise print ‘less’"
   ]
  },
  {
   "cell_type": "code",
   "execution_count": 35,
   "id": "b2b1c31f",
   "metadata": {},
   "outputs": [
    {
     "name": "stdout",
     "output_type": "stream",
     "text": [
      "Less\n"
     ]
    }
   ],
   "source": [
    "num1 = int(input(\"\"))\n",
    "num2=int(input(\"\"))\n",
    "if num1+num2 > 10:\n",
    "    print(\"Greater\")\n",
    "else:\n",
    "    print(\"Less\")"
   ]
  },
  {
   "cell_type": "markdown",
   "id": "89fbcb8c",
   "metadata": {},
   "source": [
    "Q3. WAP that takes 2 numbers from user and print largest number"
   ]
  },
  {
   "cell_type": "code",
   "execution_count": 39,
   "id": "e4da52a1",
   "metadata": {},
   "outputs": [
    {
     "name": "stdout",
     "output_type": "stream",
     "text": [
      "5\n"
     ]
    }
   ],
   "source": [
    "num =  int(input(\"\"))\n",
    "num1=int(input(\"\"))\n",
    "if num > num1:\n",
    "    print(num)\n",
    "elif num1>num:\n",
    "    print(num1)"
   ]
  },
  {
   "cell_type": "markdown",
   "id": "132ebb0a",
   "metadata": {},
   "source": [
    "Q4. W.A.P  that takes a number check  it is divisible by 5 or not"
   ]
  },
  {
   "cell_type": "code",
   "execution_count": null,
   "id": "c96e2796",
   "metadata": {},
   "outputs": [],
   "source": [
    "num = int(input(\"\"))\n",
    "if num%5==0:\n",
    "    print(\"Divisible by 5\")\n",
    "else:\n",
    "    print(\"not Divisible\")"
   ]
  },
  {
   "cell_type": "markdown",
   "id": "ed27e4d6",
   "metadata": {},
   "source": [
    "Q5. w.a.p that 4 angles checks whether it can form quadrilateral or not.\n",
    "Sum of all four angle is 360\n"
   ]
  },
  {
   "cell_type": "code",
   "execution_count": 45,
   "id": "46cdfdce",
   "metadata": {},
   "outputs": [
    {
     "name": "stdout",
     "output_type": "stream",
     "text": [
      "Quadrilateral\n"
     ]
    }
   ],
   "source": [
    "angle = int(input(\"\"))\n",
    "angle_1 = int(input(\"\"))\n",
    "angle_2 = int(input(\"\"))\n",
    "angle_3 = int(input(\"\"))\n",
    "if angle+angle_1+angle_2+angle_3 == 360:\n",
    "    print(\"Quadrilateral\")\n",
    "else:\n",
    "    print(\"Not quadrilateral\")"
   ]
  },
  {
   "cell_type": "markdown",
   "id": "60e08512",
   "metadata": {},
   "source": [
    "Q6.  Determine the season based on month taken from user\n",
    "3 <= month <= 5; print \"Spring\"\n",
    "6 <= month <= 8 then print \"Summer\"\n",
    "9 <= month <= 11, then print \"Autumn\"\n",
    "12<= moth <= 2 then print \"Winter\"\n",
    "\n"
   ]
  },
  {
   "cell_type": "code",
   "execution_count": 48,
   "id": "76f9dcfa",
   "metadata": {},
   "outputs": [
    {
     "name": "stdout",
     "output_type": "stream",
     "text": [
      "Summer\n"
     ]
    }
   ],
   "source": [
    "month = int(input(\"\"))\n",
    "if 3<=month<=5:\n",
    "    print(\"Spring\")\n",
    "elif 6<= month <=8:\n",
    "    print(\"Summer\")\n",
    "elif 9<= month <=11:\n",
    "    print(\"Autumn\")\n",
    "elif 12 == month or 1 == month or 2 == month:\n",
    "    print(\"Winter\")   "
   ]
  },
  {
   "cell_type": "markdown",
   "id": "90e4f2a3",
   "metadata": {},
   "source": [
    "Q1. W.A.P to check if a number is positive, negative, or zero.\n",
    "Input: enter a number: 8"
   ]
  },
  {
   "cell_type": "code",
   "execution_count": 49,
   "id": "7c562880",
   "metadata": {},
   "outputs": [
    {
     "name": "stdout",
     "output_type": "stream",
     "text": [
      "Zero\n"
     ]
    }
   ],
   "source": [
    "num = int(input(\"\"))\n",
    "if num > 0:\n",
    "    print(\"positive\")\n",
    "elif num <0:\n",
    "    print(\"negative\")\n",
    "elif num == 0:\n",
    "    print(\"Zero\")\n",
    "     "
   ]
  },
  {
   "cell_type": "markdown",
   "id": "8d2527bd",
   "metadata": {},
   "source": [
    "Q2. W.A.P to check if a number is even or odd."
   ]
  },
  {
   "cell_type": "code",
   "execution_count": 51,
   "id": "2b8393d7",
   "metadata": {},
   "outputs": [
    {
     "name": "stdout",
     "output_type": "stream",
     "text": [
      "even\n"
     ]
    }
   ],
   "source": [
    "num = int(input(\"\"))\n",
    "if num%2==0:\n",
    "    print(\"even\")\n",
    "else:\n",
    "    print(\"odd\")\n",
    "    "
   ]
  },
  {
   "cell_type": "markdown",
   "id": "30fea3ff",
   "metadata": {},
   "source": [
    "Q3. W.A.P to Determine grade based on marks.\n",
    "marks >= 90: Grade A\n",
    " marks >= 80: Grade: B\n",
    " Marks >= 70: Grade C\n",
    " marks >= 60: Grade: D\n"
   ]
  },
  {
   "cell_type": "code",
   "execution_count": 55,
   "id": "cc8d16cd",
   "metadata": {},
   "outputs": [
    {
     "name": "stdout",
     "output_type": "stream",
     "text": [
      "Grade :A\n"
     ]
    }
   ],
   "source": [
    "marks = int(input(\"\"))\n",
    "if marks >= 90:\n",
    "    print(\"Grade :A\")\n",
    "elif marks >=80:\n",
    "    print(\"Grade :B\")\n",
    "elif marks >=70:\n",
    "    print(\"Grade :C\")\n",
    "elif marks >=60:\n",
    "    print(\"Grade :D\")\n",
    "else:\n",
    "    print(\"Grade :E\")"
   ]
  },
  {
   "cell_type": "markdown",
   "id": "feb79d5a",
   "metadata": {},
   "source": [
    "Q4. W.A.P to Check if a number is divisible by both 3 and 5."
   ]
  },
  {
   "cell_type": "code",
   "execution_count": 57,
   "id": "99134266",
   "metadata": {},
   "outputs": [
    {
     "name": "stdout",
     "output_type": "stream",
     "text": [
      "not Divisible\n"
     ]
    }
   ],
   "source": [
    "num = int(input(\"\"))\n",
    "if num%5==0 and num%3==0:\n",
    "    print(\"Divisible\")\n",
    "else:\n",
    "    print(\"not Divisible\")\n",
    "    "
   ]
  },
  {
   "cell_type": "markdown",
   "id": "4c6a9b29",
   "metadata": {},
   "source": [
    "Q5. program to determine if a person is a child, teenager, adult, or\n",
    "senior based on their age\n",
    "age <= 12:\"Child\"\n",
    "age <= 19: \"Teenager\"\n",
    "age <= 64: \"Adult\"\n",
    "age > = 64:\"Senior\""
   ]
  },
  {
   "cell_type": "code",
   "execution_count": 59,
   "id": "112d072f",
   "metadata": {},
   "outputs": [
    {
     "name": "stdout",
     "output_type": "stream",
     "text": [
      "Adult\n"
     ]
    }
   ],
   "source": [
    "age = int(input(\"\"))\n",
    "if age <= 12:\n",
    "    print(\"Child\")\n",
    "elif age <= 19:\n",
    "    print(\"Teenager\")\n",
    "elif age<=64:\n",
    "    print(\"Adult\")\n",
    "elif age >=64:\n",
    "    print(\"Senior\")\n",
    "    \n",
    "    "
   ]
  },
  {
   "cell_type": "markdown",
   "id": "38f78ae3",
   "metadata": {},
   "source": [
    "Q6. Check if a year is a leap year"
   ]
  },
  {
   "cell_type": "code",
   "execution_count": 62,
   "id": "f0002a69",
   "metadata": {},
   "outputs": [
    {
     "name": "stdout",
     "output_type": "stream",
     "text": [
      "This is not a leap year\n"
     ]
    }
   ],
   "source": [
    "leap_year = int(input(\"\"))\n",
    "if leap_year%4==0 and (leap_year%100 !=0 or leap_year%400==0):\n",
    "    print(\"leap year\")\n",
    "else:\n",
    "    print(\"This is not a leap year\")"
   ]
  },
  {
   "cell_type": "markdown",
   "id": "6720bc4d",
   "metadata": {},
   "source": [
    "Q7. W.A.P to find the largest of three numbers"
   ]
  },
  {
   "cell_type": "code",
   "execution_count": 64,
   "id": "262cb500",
   "metadata": {},
   "outputs": [
    {
     "name": "stdout",
     "output_type": "stream",
     "text": [
      "50\n"
     ]
    }
   ],
   "source": [
    "num = int(input(\"\"))\n",
    "num1= int(input(\"\"))\n",
    "num2= int(input(\"\"))\n",
    "if num > num1 and num>num2:\n",
    "    print(num)\n",
    "elif num1>num and num1>num2:\n",
    "    print(num1)\n",
    "else:\n",
    "    print(num2)"
   ]
  },
  {
   "cell_type": "markdown",
   "id": "001150d6",
   "metadata": {},
   "source": [
    "Q8. W.A.P Determine if a triangle is equilateral, isosceles, or scalene.\n"
   ]
  },
  {
   "cell_type": "code",
   "execution_count": 69,
   "id": "9b733ab2",
   "metadata": {},
   "outputs": [
    {
     "name": "stdout",
     "output_type": "stream",
     "text": [
      "scalene\n"
     ]
    }
   ],
   "source": [
    "side1 = int(input(\"\"))\n",
    "side2= int(input(\"\"))\n",
    "side3=int(input(\"\"))\n",
    "\n",
    "if side1 == side2 == side3:\n",
    "    print(\"equilateral\")\n",
    "elif side1 == side2 or side2==side3 or side3==side1:\n",
    "    print(\"isosceles\")\n",
    "else:\n",
    "    print(\"scalene\")\n",
    "    "
   ]
  },
  {
   "cell_type": "markdown",
   "id": "b4358c4b",
   "metadata": {},
   "source": [
    "Q9. Determine if a year is a century year.\n",
    "Example of century year 1800, 2000, 2100 many more…"
   ]
  },
  {
   "cell_type": "code",
   "execution_count": 74,
   "id": "773784a6",
   "metadata": {},
   "outputs": [
    {
     "name": "stdout",
     "output_type": "stream",
     "text": [
      "not century\n"
     ]
    }
   ],
   "source": [
    "century_year=int(input(\"\"))\n",
    "if century_year%100==0:\n",
    "    print(\"century year\")\n",
    "else:\n",
    "    print(\"not century\")"
   ]
  },
  {
   "cell_type": "markdown",
   "id": "1450d46f",
   "metadata": {},
   "source": [
    "Q10.Write a Python program that accepts three numbers and check\n",
    "All numbers are equal or not.\n"
   ]
  },
  {
   "cell_type": "code",
   "execution_count": null,
   "id": "e08cbe65",
   "metadata": {},
   "outputs": [],
   "source": [
    "num = int(input(\"\"))\n",
    "num1 = int(input(\"\"))\n",
    "num2 = int(input(\"\"))\n",
    "if num == num1 == num2:\n",
    "    print(\"equal\")\n",
    "else:\n",
    "    print(\"not equal\")\n"
   ]
  },
  {
   "cell_type": "markdown",
   "id": "2a1033bb",
   "metadata": {},
   "source": [
    "Q11. Write a python program which takes x and y as a input and\n",
    "determine the quadrant of a point in a coordinate system as per the\n",
    "given information below:\n",
    " "
   ]
  },
  {
   "cell_type": "code",
   "execution_count": 78,
   "id": "9f5c9a07",
   "metadata": {},
   "outputs": [
    {
     "name": "stdout",
     "output_type": "stream",
     "text": [
      "Second quadrant\n"
     ]
    }
   ],
   "source": [
    "x_input=int(input(\"\"))\n",
    "y_input=int(input(\"\"))\n",
    "if x_input>0 and y_input>0:\n",
    "    print(\"first quadrant\")\n",
    "elif x_input<0 and y_input>0:\n",
    "    print(\"Second quadrant\")\n",
    "elif x_input<0 and y_input<0:\n",
    "    print(\"third quadrant\")\n",
    "elif x_input>0 and y_input<0:\n",
    "    print(\"fourth quadrant\")"
   ]
  },
  {
   "cell_type": "markdown",
   "id": "f249001b",
   "metadata": {},
   "source": [
    "Q12. Write a python program which takes three input and check if\n",
    "third number is within a given range between first and second\n",
    "number."
   ]
  },
  {
   "cell_type": "code",
   "execution_count": 81,
   "id": "7c3ab7cf",
   "metadata": {},
   "outputs": [
    {
     "name": "stdout",
     "output_type": "stream",
     "text": [
      "NO\n"
     ]
    }
   ],
   "source": [
    "lower_range=int(input(\"\"))\n",
    "upper_range=int(input(\"\"))\n",
    "input_num=int(input(\"\"))\n",
    "\n",
    "if input_num > lower_range and upper_range > input_num:\n",
    "    print(\"YES\")\n",
    "else:\n",
    "    print(\"NO\")"
   ]
  },
  {
   "cell_type": "markdown",
   "id": "d0a2168d",
   "metadata": {},
   "source": [
    "Q13. Input 3 angle and determine if they form a triangle or not"
   ]
  },
  {
   "cell_type": "code",
   "execution_count": null,
   "id": "abf6fc56",
   "metadata": {},
   "outputs": [],
   "source": [
    "angle_1 = int(input(\"\"))\n",
    "angle_2 = int(input(\"\"))\n",
    "angle_3 = int(input(\"\"))\n",
    "if angle_1+angle_2+angle_3==180:\n",
    "    print(\"Triangle\")\n",
    "else:\n",
    "    print(\"not Triangle\")"
   ]
  },
  {
   "cell_type": "markdown",
   "id": "8b5fb5c4",
   "metadata": {},
   "source": [
    "Q14. program that reads 2 numbers and an arithmetic operator like\n",
    "+, -, *, /, % and display the computed result:"
   ]
  },
  {
   "cell_type": "code",
   "execution_count": null,
   "id": "47696c7b",
   "metadata": {},
   "outputs": [
    {
     "name": "stdout",
     "output_type": "stream",
     "text": [
      "125\n"
     ]
    }
   ],
   "source": [
    "number1 =int(input(\"\"))\n",
    "number2=int(input(\"\"))\n",
    "operator= input(\"\")\n",
    "if operator == \"+\":\n",
    "    print(number1+number2)\n",
    "elif operator == \"-\":\n",
    "    print(number1-number2)\n",
    "elif operator == \"*\":\n",
    "    print(number1*number2)\n",
    "elif operator == \"/\":\n",
    "    print(number1/number2)   \n",
    "elif operator == \"%\":\n",
    "    print(number1%number2)\n",
    "elif operator == \"//\":\n",
    "    print(number1//number2)"
   ]
  },
  {
   "cell_type": "markdown",
   "id": "579963f5",
   "metadata": {},
   "source": [
    "Q15. Write a python program to input cost price and selling price of a\n",
    "product and check profit or loss. Also calculate total profit or loss\n",
    "using if else.\n"
   ]
  },
  {
   "cell_type": "code",
   "execution_count": 85,
   "id": "0c812afe",
   "metadata": {},
   "outputs": [
    {
     "name": "stdout",
     "output_type": "stream",
     "text": [
      "Profit : 58500\n"
     ]
    }
   ],
   "source": [
    "input_cost_price=int(input(\"\"))\n",
    "input_selling_price=int(input(\"\"))\n",
    "if input_cost_price < input_selling_price:\n",
    "    print(\"Profit :\",input_selling_price-input_cost_price)\n",
    "else:\n",
    "     print(\"Losss :\",input_selling_price-input_cost_price)"
   ]
  },
  {
   "cell_type": "markdown",
   "id": "714e8ed3",
   "metadata": {},
   "source": [
    "Q16. Write a python program to input week number and print week\n",
    "day."
   ]
  },
  {
   "cell_type": "code",
   "execution_count": 86,
   "id": "a6bee21e",
   "metadata": {},
   "outputs": [
    {
     "name": "stdout",
     "output_type": "stream",
     "text": [
      "friday\n"
     ]
    }
   ],
   "source": [
    "week_number=int(input(\"\"))\n",
    "if week_number == 1:\n",
    "    print(\"Monday\")\n",
    "elif week_number == 2:\n",
    "    print(\"tuesday\")\n",
    "elif week_number == 3:\n",
    "    print(\"wednesday\")\n",
    "elif week_number == 4:\n",
    "    print(\"thursday\")\n",
    "elif week_number == 5:\n",
    "    print(\"friday\")\n",
    "elif week_number == 6:\n",
    "    print(\"sturday\")\n",
    "elif week_number == 7:\n",
    "    print(\"sunday\")"
   ]
  },
  {
   "cell_type": "markdown",
   "id": "7d110f72",
   "metadata": {},
   "source": [
    "Q17. Write a python program that accepts three numbers from the\n",
    "user and check if numbers are in \"increasing\" or \"decreasing\" order"
   ]
  },
  {
   "cell_type": "code",
   "execution_count": null,
   "id": "cbe7f4ec",
   "metadata": {},
   "outputs": [
    {
     "name": "stdout",
     "output_type": "stream",
     "text": [
      "increasing order 10 20 30\n"
     ]
    }
   ],
   "source": [
    "num = int(input(\"\"))\n",
    "num1 = int(input(\"\"))\n",
    "num2 = int(input(\"\"))\n",
    "if num<num1 and num1<num2 :\n",
    "    print(\"increasing order :\",num,num1,num2)\n",
    "elif num>num1 and num1>num2 :\n",
    "    print(\"Decreasing order :\",num,num1,num2)\n",
    "else:\n",
    "    print(\"not arrange\")\n"
   ]
  },
  {
   "cell_type": "markdown",
   "id": "f8185dc4",
   "metadata": {},
   "source": [
    "Q18. While purchasing certain items, a discount of 10% is offered if\n",
    "the quantity purchased is more than 100. If quantity and price per\n",
    "item are input through the keyboard, write a program to calculate\n",
    "the total expenses."
   ]
  },
  {
   "cell_type": "code",
   "execution_count": 96,
   "id": "de1ed552",
   "metadata": {},
   "outputs": [
    {
     "name": "stdout",
     "output_type": "stream",
     "text": [
      "100\n"
     ]
    }
   ],
   "source": [
    "per_item = int(input(\"\"))\n",
    "quantity= int(input(\"\")) # More than 100 quantity so apply 10% discount.\n",
    "if quantity >100:\n",
    "    total=per_item*quantity\n",
    "    discount=total*10/100\n",
    "    final_amount=total-discount\n",
    "    print(final_amount)\n",
    "else:\n",
    "    total=per_item*quantity\n",
    "    print(total)\n",
    "    \n",
    "    \n"
   ]
  },
  {
   "cell_type": "markdown",
   "id": "0f03196e",
   "metadata": {},
   "source": [
    "Q19. Write a program to input electricity unit charges and calculate\n",
    "total electricity bill\n",
    "according to the given condition:\n",
    "• For first 50 units Rs. 0.50/unit\n",
    "• For next 150 units Rs. 0.75/unit\n",
    "• For next 250 units Rs. 1.20/unit\n",
    "• For unit above 450 Rs. 1.50/unit\n",
    "• An additional surcharge of 20% is added to the bill"
   ]
  },
  {
   "cell_type": "code",
   "execution_count": 98,
   "id": "63119bc7",
   "metadata": {},
   "outputs": [
    {
     "name": "stdout",
     "output_type": "stream",
     "text": [
      "expected : 257.5\n",
      "With subcharges 309.0\n"
     ]
    }
   ],
   "source": [
    "electricity = int(input(\"\"))\n",
    "if electricity <=50:\n",
    "    total_unit=electricity*0.50\n",
    "elif electricity <=200:\n",
    "    total_unit=(50*0.50)+(electricity-50)*0.75\n",
    "elif electricity <=450:\n",
    "    total_unit=(50*0.50+150*0.75)+(electricity-200)*1.20\n",
    "else:\n",
    "    total_unit=(50*0.50+150*0.75+250*1.20)+(electricity-450)*1.50\n",
    "print(\"expected :\",total_unit)\n",
    "print(\"With subcharges\",total_unit*20/100+total_unit)    \n",
    "    "
   ]
  },
  {
   "cell_type": "markdown",
   "id": "1e8cfca1",
   "metadata": {},
   "source": [
    "Q20. Write a python program which accept the kilometres covered\n",
    "and calculate the bill according to the following criteria:"
   ]
  },
  {
   "cell_type": "code",
   "execution_count": 102,
   "id": "e55c5352",
   "metadata": {},
   "outputs": [
    {
     "name": "stdout",
     "output_type": "stream",
     "text": [
      "1010\n"
     ]
    }
   ],
   "source": [
    "kilometer= int(input(\"\"))\n",
    "if kilometer <=10:\n",
    "    total=kilometer*11\n",
    "elif kilometer <=90:\n",
    "    total=(10*11)+(kilometer-10)*10\n",
    "else:\n",
    "    total=(10*11 + 90*10)+(kilometer-100)*9\n",
    "print(total)"
   ]
  }
 ],
 "metadata": {
  "kernelspec": {
   "display_name": "base",
   "language": "python",
   "name": "python3"
  },
  "language_info": {
   "codemirror_mode": {
    "name": "ipython",
    "version": 3
   },
   "file_extension": ".py",
   "mimetype": "text/x-python",
   "name": "python",
   "nbconvert_exporter": "python",
   "pygments_lexer": "ipython3",
   "version": "3.12.7"
  }
 },
 "nbformat": 4,
 "nbformat_minor": 5
}
