{
 "cells": [
  {
   "cell_type": "markdown",
   "id": "c00a5333",
   "metadata": {},
   "source": [
    "# While loop "
   ]
  },
  {
   "cell_type": "markdown",
   "id": "d0b8be03",
   "metadata": {},
   "source": [
    "Q1. Write a program that prints number from 1 to 10 number with\n",
    "their square.\n"
   ]
  },
  {
   "cell_type": "code",
   "execution_count": null,
   "id": "5ca228c5",
   "metadata": {},
   "outputs": [],
   "source": [
    "num = 1\n",
    "while num<11:\n",
    "    print(num)\n",
    "    num +=1"
   ]
  },
  {
   "cell_type": "markdown",
   "id": "f0538eb0",
   "metadata": {},
   "source": [
    "Q2. Write a program that prints a table of a number, take that\n",
    "number from the user."
   ]
  },
  {
   "cell_type": "code",
   "execution_count": null,
   "id": "cc065cb3",
   "metadata": {},
   "outputs": [],
   "source": [
    "num = int(input(\"\"))\n",
    "i=1\n",
    "while i<=10:\n",
    "    print(num,\"*\",i,\"=\",i*num)\n",
    "    i+=1    "
   ]
  },
  {
   "cell_type": "markdown",
   "id": "6440de9a",
   "metadata": {},
   "source": [
    "Q3. Write a program that calculates the product of all numbers\n",
    "between 1 to 10 using a while loop."
   ]
  },
  {
   "cell_type": "code",
   "execution_count": 4,
   "id": "76e8791b",
   "metadata": {},
   "outputs": [
    {
     "name": "stdout",
     "output_type": "stream",
     "text": [
      "3628800\n"
     ]
    }
   ],
   "source": [
    "num = 1\n",
    "i=1\n",
    "while i <=10:\n",
    "    num *=i\n",
    "    i+=1\n",
    "print(num)"
   ]
  },
  {
   "cell_type": "markdown",
   "id": "364cf049",
   "metadata": {},
   "source": [
    "Q4. Write a program that prints numbers divisible of 7 between 1 to\n",
    "70 "
   ]
  },
  {
   "cell_type": "code",
   "execution_count": null,
   "id": "9bfc847a",
   "metadata": {},
   "outputs": [],
   "source": [
    "num = 7\n",
    "i =1\n",
    "while i <=70 :\n",
    "    if i%num==0:\n",
    "        print(i)\n",
    "    i+=1"
   ]
  },
  {
   "cell_type": "markdown",
   "id": "09ade896",
   "metadata": {},
   "source": [
    "Q5. Write a program that takes input from the user and print the\n",
    "reverse counting of that number."
   ]
  },
  {
   "cell_type": "code",
   "execution_count": null,
   "id": "9016fb14",
   "metadata": {},
   "outputs": [],
   "source": [
    "num = int(input(\"\"))\n",
    "while num > 0:\n",
    "    print(num)\n",
    "    num -=1"
   ]
  },
  {
   "cell_type": "code",
   "execution_count": null,
   "id": "232ab15e",
   "metadata": {},
   "outputs": [],
   "source": [
    "num = 3\n",
    "while num**2 <100:\n",
    "    print(num+1)\n",
    "    num += 2"
   ]
  },
  {
   "cell_type": "markdown",
   "id": "a5bcaa82",
   "metadata": {},
   "source": [
    "Q6. Write a program to generate squares of even numbers between 1 to 10.\n",
    "Output: 4,16,36,64,100\n"
   ]
  },
  {
   "cell_type": "code",
   "execution_count": null,
   "id": "d0b5366a",
   "metadata": {},
   "outputs": [],
   "source": [
    "\n",
    "i = 1\n",
    "while i <= 10:\n",
    "    if i % 2==0:\n",
    "        print(i**2)\n",
    "    i +=1\n",
    "    "
   ]
  },
  {
   "cell_type": "markdown",
   "id": "3abf0884",
   "metadata": {},
   "source": [
    "Q7. Write a program to print Multiples of 3 and 5 between 1 to 30.\n"
   ]
  },
  {
   "cell_type": "code",
   "execution_count": 9,
   "id": "9bec810d",
   "metadata": {},
   "outputs": [
    {
     "name": "stdout",
     "output_type": "stream",
     "text": [
      "15\n",
      "30\n"
     ]
    }
   ],
   "source": [
    "i = 1\n",
    "while i <= 30:\n",
    "    if i % 3==0 and  i %5==0:\n",
    "        print(i)\n",
    "    i +=1"
   ]
  },
  {
   "cell_type": "markdown",
   "id": "14404160",
   "metadata": {},
   "source": [
    "Q8. Write a program to calculate the sum of numbers from 1 to 10 using a while\n",
    "loop.\n"
   ]
  },
  {
   "cell_type": "code",
   "execution_count": 10,
   "id": "463334ca",
   "metadata": {},
   "outputs": [
    {
     "name": "stdout",
     "output_type": "stream",
     "text": [
      "55\n"
     ]
    }
   ],
   "source": [
    "num=0\n",
    "i = 1\n",
    "while i<=10:\n",
    "    num+=i\n",
    "    i+=1\n",
    "print(num)"
   ]
  },
  {
   "cell_type": "markdown",
   "id": "7d6e027a",
   "metadata": {},
   "source": [
    "Q9. Write a program to calculate Sum of Odd Numbers up to 30 using while loop"
   ]
  },
  {
   "cell_type": "code",
   "execution_count": 11,
   "id": "02ea815c",
   "metadata": {},
   "outputs": [
    {
     "name": "stdout",
     "output_type": "stream",
     "text": [
      "225\n"
     ]
    }
   ],
   "source": [
    "i = 1\n",
    "num=0\n",
    "while i<=30:\n",
    "    if i % 2 !=0:\n",
    "        num+=i\n",
    "    i +=1\n",
    "print(num)"
   ]
  },
  {
   "cell_type": "markdown",
   "id": "76fe61fb",
   "metadata": {},
   "source": [
    "Q10. Write a python program to find the Sum of the Digits of a given\n",
    "number as an input.\n"
   ]
  },
  {
   "cell_type": "code",
   "execution_count": 15,
   "id": "58d656ae",
   "metadata": {},
   "outputs": [
    {
     "name": "stdout",
     "output_type": "stream",
     "text": [
      "24\n"
     ]
    }
   ],
   "source": [
    "num = int(input(\"\"))\n",
    "sum1=0\n",
    "while num > 0:\n",
    "    num1=num%10\n",
    "    sum1+=num1\n",
    "    num//=10\n",
    "print(sum1)\n",
    "    "
   ]
  },
  {
   "cell_type": "markdown",
   "id": "2c9f9d8d",
   "metadata": {},
   "source": [
    "Q11. Write a python program which finds the reverse of a given\n",
    "number."
   ]
  },
  {
   "cell_type": "code",
   "execution_count": 16,
   "id": "294ac35a",
   "metadata": {},
   "outputs": [
    {
     "name": "stdout",
     "output_type": "stream",
     "text": [
      "321\n"
     ]
    }
   ],
   "source": [
    "digit = int(input(\"\"))\n",
    "r= 0\n",
    "while digit > 0:\n",
    "    digit1=digit%10\n",
    "    r = r*10+digit1\n",
    "    digit //=10\n",
    "print(r)"
   ]
  },
  {
   "cell_type": "markdown",
   "id": "53fb768f",
   "metadata": {},
   "source": [
    "Q12. Write a python program which find the Factors of a given number\n",
    "as an input.\n"
   ]
  },
  {
   "cell_type": "code",
   "execution_count": null,
   "id": "eed5a558",
   "metadata": {},
   "outputs": [],
   "source": [
    "num = int(input(\"\"))\n",
    "i = 1\n",
    "while i <= num:\n",
    "    if num%i ==0:\n",
    "        print(i)\n",
    "    i+=1  "
   ]
  },
  {
   "cell_type": "markdown",
   "id": "31cb8a82",
   "metadata": {},
   "source": [
    "Q13. Write a python program which check Whether the given number\n",
    "as an input is a Palindrome or not"
   ]
  },
  {
   "cell_type": "code",
   "execution_count": null,
   "id": "461cceb7",
   "metadata": {},
   "outputs": [
    {
     "name": "stdout",
     "output_type": "stream",
     "text": [
      "Palindrome\n"
     ]
    }
   ],
   "source": [
    "digit = int(input(\"\"))\n",
    "num1=digit\n",
    "r= 0\n",
    "while digit > 0:\n",
    "    digit1=digit%10\n",
    "    r = r*10+digit1\n",
    "    digit //=10\n",
    "if num1==r:\n",
    "    print(\"Palindrome\")\n",
    "else:\n",
    "    print(\"not Palindrome\")"
   ]
  },
  {
   "cell_type": "markdown",
   "id": "3229c75e",
   "metadata": {},
   "source": [
    "Q14. Write a python program which finds Factorial of a Number"
   ]
  },
  {
   "cell_type": "code",
   "execution_count": 33,
   "id": "79988b0f",
   "metadata": {},
   "outputs": [
    {
     "name": "stdout",
     "output_type": "stream",
     "text": [
      "1\n"
     ]
    }
   ],
   "source": [
    "num = int(input(\"\"))\n",
    "i = 1\n",
    "while num > 0:\n",
    "    i*=num\n",
    "    num -=1\n",
    "print(i)\n",
    "    "
   ]
  },
  {
   "cell_type": "markdown",
   "id": "a5557422",
   "metadata": {},
   "source": [
    "Q15. Check Whether or Not the Number is an Armstrong Number"
   ]
  },
  {
   "cell_type": "code",
   "execution_count": 37,
   "id": "8d87957c",
   "metadata": {},
   "outputs": [
    {
     "name": "stdout",
     "output_type": "stream",
     "text": [
      "Armstrong\n"
     ]
    }
   ],
   "source": [
    "num  = int(input(\"\"))\n",
    "num1=num\n",
    "num2=num1\n",
    "count = 0\n",
    "while num > 0:\n",
    "    count +=1\n",
    "    num//=10\n",
    "sum1=0\n",
    "while num1>0:\n",
    "    div = num1%10\n",
    "    sum1+=div**count\n",
    "    num1//=10\n",
    "if num2==sum1:\n",
    "    print(\"Armstrong\")\n",
    "else:\n",
    "    print(\"not armstrong\")\n",
    "\n",
    "    "
   ]
  },
  {
   "cell_type": "markdown",
   "id": "7961052d",
   "metadata": {},
   "source": [
    "Q16. Write a python program to check whether or Not the given\n",
    "number is a Perfect Number.\n"
   ]
  },
  {
   "cell_type": "code",
   "execution_count": 50,
   "id": "1a3676fa",
   "metadata": {},
   "outputs": [
    {
     "name": "stdout",
     "output_type": "stream",
     "text": [
      "perfect number\n"
     ]
    }
   ],
   "source": [
    "num = int(input(\"\"))\n",
    "num1=num\n",
    "i=1\n",
    "sum1=0\n",
    "while i<num:\n",
    "    if num%i==0:\n",
    "        sum1+=i\n",
    "    i+=1\n",
    "if sum1==num1:\n",
    "    print(\"perfect number\")\n",
    "else:\n",
    "    print(\"not perfect number\")"
   ]
  },
  {
   "cell_type": "markdown",
   "id": "0034b807",
   "metadata": {},
   "source": [
    "Q17. Write a program to enter the number till the user enters 0 and\n",
    "at the end it should display the sum of all the numbers entered.\n"
   ]
  },
  {
   "cell_type": "code",
   "execution_count": 2,
   "id": "6fa6b450",
   "metadata": {},
   "outputs": [
    {
     "name": "stdout",
     "output_type": "stream",
     "text": [
      "8\n"
     ]
    }
   ],
   "source": [
    "sum1=0\n",
    "while True:\n",
    "    num = int(input(\"\"))\n",
    "    if num ==0:\n",
    "        break\n",
    "    else:\n",
    "        sum1+=num\n",
    "print(sum1)"
   ]
  },
  {
   "cell_type": "markdown",
   "id": "410ee9d4",
   "metadata": {},
   "source": [
    "# For Loop"
   ]
  },
  {
   "cell_type": "markdown",
   "id": "c71afcfe",
   "metadata": {},
   "source": [
    "Q18. Write a python program that take a number from user then add all\n",
    "the natural number which are divisible by 3 or 5 both till that input\n",
    "number."
   ]
  },
  {
   "cell_type": "code",
   "execution_count": 1,
   "id": "b69a2542",
   "metadata": {},
   "outputs": [
    {
     "name": "stdout",
     "output_type": "stream",
     "text": [
      "33\n"
     ]
    }
   ],
   "source": [
    "num = int(input(\"\"))\n",
    "sum1=0\n",
    "for i in range(1,num+1,1):\n",
    "    if i % 3 == 0 or i%5==0:\n",
    "        sum1 +=i\n",
    "print(sum1)"
   ]
  },
  {
   "cell_type": "markdown",
   "id": "4f16b2ef",
   "metadata": {},
   "source": [
    "Q19. Write a python program that takes input from user then print the\n",
    "table of the entered number using for loop\n"
   ]
  },
  {
   "cell_type": "code",
   "execution_count": null,
   "id": "ce3e9b7c",
   "metadata": {},
   "outputs": [],
   "source": [
    "num = int(input(\"\"))\n",
    "for i in range(1,11,1):\n",
    "    print(num,\"*\",i,\"=\",num*i)"
   ]
  },
  {
   "cell_type": "markdown",
   "id": "648fdf7a",
   "metadata": {},
   "source": [
    "Q20. Write a python program that print the given series."
   ]
  },
  {
   "cell_type": "code",
   "execution_count": null,
   "id": "38095d0c",
   "metadata": {},
   "outputs": [],
   "source": [
    "num = int(input(\"\"))\n",
    "for i in range(num,-1,-4):\n",
    "    print(i)"
   ]
  },
  {
   "cell_type": "markdown",
   "id": "de971275",
   "metadata": {},
   "source": [
    "Q21. Write a python program to generate all the factors of the given\n",
    "number. Using for loop\n"
   ]
  },
  {
   "cell_type": "code",
   "execution_count": null,
   "id": "74e4f714",
   "metadata": {},
   "outputs": [],
   "source": [
    "num = int(input(\"\"))\n",
    "for i in range(1,num+1):\n",
    "    if num % i == 0:\n",
    "        print(i)\n",
    "    "
   ]
  },
  {
   "cell_type": "markdown",
   "id": "68b05f0f",
   "metadata": {},
   "source": [
    "Q22. Write a Python program to find the sum of digit of a given number\n",
    "using for loop. (between 100 and 999)."
   ]
  },
  {
   "cell_type": "code",
   "execution_count": 8,
   "id": "d0d6e3c0",
   "metadata": {},
   "outputs": [
    {
     "name": "stdout",
     "output_type": "stream",
     "text": [
      "6\n"
     ]
    }
   ],
   "source": [
    "num = int(input(\"\"))\n",
    "div=0\n",
    "sum1=0\n",
    "for i in range(num+1):\n",
    "    div = num%10\n",
    "    sum1+=div\n",
    "    num//=10\n",
    "print(sum1)"
   ]
  },
  {
   "cell_type": "markdown",
   "id": "0f8152be",
   "metadata": {},
   "source": [
    "Q23 write a python program that takes number from user then prints\n",
    "count of even and odd number from 1 to till that number"
   ]
  },
  {
   "cell_type": "code",
   "execution_count": 17,
   "id": "aba0b0c6",
   "metadata": {},
   "outputs": [
    {
     "name": "stdout",
     "output_type": "stream",
     "text": [
      " count of even : 5\n",
      " count of odd : 5\n"
     ]
    }
   ],
   "source": [
    "num = int(input(\"\"))\n",
    "even=0\n",
    "odd = 0\n",
    "for i in range(1,num+1):\n",
    "    if i % 2 == 0:\n",
    "        even+=1\n",
    "    else:\n",
    "        odd +=1\n",
    "print(\" count of even :\",even) \n",
    "print(\" count of odd :\",odd) "
   ]
  },
  {
   "cell_type": "markdown",
   "id": "6563f862",
   "metadata": {},
   "source": [
    "Q24.Write a Python program to count how many numbers between 1\n",
    "and 200 are divisible by 5 but not by 2."
   ]
  },
  {
   "cell_type": "code",
   "execution_count": 20,
   "id": "13987d6c",
   "metadata": {},
   "outputs": [
    {
     "name": "stdout",
     "output_type": "stream",
     "text": [
      "20\n"
     ]
    }
   ],
   "source": [
    "num = int(input(\"\"))\n",
    "count = 0\n",
    "for i in range(1,num+1):\n",
    "    if i%5==0 and i%2 !=0:\n",
    "        count +=1\n",
    "print(count)"
   ]
  },
  {
   "cell_type": "markdown",
   "id": "e4b11623",
   "metadata": {},
   "source": [
    "Q25. Write a Python program to find the reverse of a given number\n",
    "using for loop. (between 100 and 999)."
   ]
  },
  {
   "cell_type": "code",
   "execution_count": null,
   "id": "88e530bb",
   "metadata": {},
   "outputs": [
    {
     "name": "stdout",
     "output_type": "stream",
     "text": [
      "3210000000000000000000000000000000000000000000000000000000000000000000000000000000000000000000000000000000000000000000000000\n"
     ]
    }
   ],
   "source": [
    "digit = int(input(\"\"))\n",
    "r =0 \n",
    "sum1=0\n",
    "for i in range(digit+1):\n",
    "    sum1=digit%10\n",
    "    r = r*10+sum1\n",
    "    digit //= 10\n",
    "print(r)   "
   ]
  },
  {
   "cell_type": "markdown",
   "id": "3d900d1b",
   "metadata": {},
   "source": [
    "Q26. Write a python program which takes number as an input and\n",
    "check whether that number is prime or not.\n"
   ]
  },
  {
   "cell_type": "code",
   "execution_count": null,
   "id": "fac5d790",
   "metadata": {},
   "outputs": [
    {
     "name": "stdout",
     "output_type": "stream",
     "text": [
      " prime\n"
     ]
    }
   ],
   "source": [
    "num = int(input(\"\"))\n",
    "if num<=1:\n",
    "    print(\"not prime\")\n",
    "elif num ==2:\n",
    "    print(\"prime\")\n",
    "\n",
    "for i in range(3,num):\n",
    "    if num%i==0:\n",
    "       print(\" not prime\")\n",
    "       break\n",
    "else:\n",
    "    print(\" prime\")\n",
    "        \n",
    "    "
   ]
  },
  {
   "cell_type": "markdown",
   "id": "445127f9",
   "metadata": {},
   "source": [
    "# List "
   ]
  },
  {
   "cell_type": "markdown",
   "id": "42cfba9d",
   "metadata": {},
   "source": [
    "Q27. Write a program which add the element 13 to the end of the list\n",
    "numbers = [10, 22, 35, 45, 53] after that Print the list."
   ]
  },
  {
   "cell_type": "code",
   "execution_count": 11,
   "id": "e4d44c67",
   "metadata": {},
   "outputs": [
    {
     "name": "stdout",
     "output_type": "stream",
     "text": [
      "[10, 22, 35, 45, 53, 13]\n"
     ]
    }
   ],
   "source": [
    "number = [10,22,35,45,53]\n",
    "number.append(13)\n",
    "print(number)"
   ]
  },
  {
   "cell_type": "markdown",
   "id": "5c6a3166",
   "metadata": {},
   "source": [
    "Q28. Write a program which insert the element 20 at index 2 in the\n",
    "list numbers = [5, 2, 6, 4, 9]. Print the list after inserting."
   ]
  },
  {
   "cell_type": "code",
   "execution_count": 12,
   "id": "faf629f4",
   "metadata": {},
   "outputs": [
    {
     "name": "stdout",
     "output_type": "stream",
     "text": [
      "[5, 2, 20, 6, 4, 9]\n"
     ]
    }
   ],
   "source": [
    "number = [5,2,6,4,9]\n",
    "number.insert(2,20)\n",
    "print(number)"
   ]
  },
  {
   "cell_type": "markdown",
   "id": "caaa4656",
   "metadata": {},
   "source": [
    "Q29. If List1 = [1,2,3,4] and List2 = [8,6,7,5] then what should be the\n",
    "code for the output: [1,2,3,4,8,6,7,5]\n"
   ]
  },
  {
   "cell_type": "code",
   "execution_count": 13,
   "id": "fe2b85a9",
   "metadata": {},
   "outputs": [
    {
     "name": "stdout",
     "output_type": "stream",
     "text": [
      "[1, 2, 3, 4, 8, 6, 7, 5]\n"
     ]
    }
   ],
   "source": [
    "lst = [1,2,3,4]\n",
    "lst1=[8,6,7,5]\n",
    "lst.extend(lst1)\n",
    "print(lst)"
   ]
  },
  {
   "cell_type": "markdown",
   "id": "67201864",
   "metadata": {},
   "source": [
    "Q30. Delete the element at index 3 from the list numbers = [10, 2, 36,\n",
    "41, 5]. Print the list after deletion"
   ]
  },
  {
   "cell_type": "code",
   "execution_count": null,
   "id": "7986078f",
   "metadata": {},
   "outputs": [
    {
     "name": "stdout",
     "output_type": "stream",
     "text": [
      "[10, 2, 36, 5]\n"
     ]
    }
   ],
   "source": [
    "number = [10,2,36,41,5]\n",
    "number.pop(3) # pop is work to index\n",
    "print(number)"
   ]
  },
  {
   "cell_type": "markdown",
   "id": "2482068c",
   "metadata": {},
   "source": [
    "Q31. Delete the element at index 4 from the list Lst = ['apple' ,\n",
    "'banana' , 'orange' , 'kiwi' , 'guava'] and Print the list after deletion\n",
    "and also print that deleted element."
   ]
  },
  {
   "cell_type": "code",
   "execution_count": 18,
   "id": "e9044d18",
   "metadata": {},
   "outputs": [
    {
     "name": "stdout",
     "output_type": "stream",
     "text": [
      "['apple', 'banana', 'orange', 'kiwi']\n"
     ]
    }
   ],
   "source": [
    "lst = ['apple','banana','orange','kiwi','guava']\n",
    "lst.pop(4)\n",
    "print(lst)"
   ]
  },
  {
   "cell_type": "markdown",
   "id": "f3cc303f",
   "metadata": {},
   "source": [
    "Q32. Remove the first occurrence of the element 3 from the list\n",
    "numbers = [1, 25, 3, 44, 33, 56]. Print the list after removing."
   ]
  },
  {
   "cell_type": "code",
   "execution_count": 19,
   "id": "56bde5d7",
   "metadata": {},
   "outputs": [
    {
     "name": "stdout",
     "output_type": "stream",
     "text": [
      "[1, 25, 44, 33, 3, 56]\n"
     ]
    }
   ],
   "source": [
    "lst = [1,25,3,44,33,3,56]\n",
    "lst.remove(3)\n",
    "print(lst)"
   ]
  },
  {
   "cell_type": "markdown",
   "id": "4c2f9e88",
   "metadata": {},
   "source": [
    "Q33. Count the number of times the element 2 appears in the list Lst =\n",
    "[15, 2, 2, 3, 4, 2 ,7 ,8 ,45 ,2 ,2]. Print the count"
   ]
  },
  {
   "cell_type": "code",
   "execution_count": 20,
   "id": "1aed29ee",
   "metadata": {},
   "outputs": [
    {
     "name": "stdout",
     "output_type": "stream",
     "text": [
      "5\n"
     ]
    }
   ],
   "source": [
    "lst = [15, 2, 2, 3, 4, 2 ,7 ,8 ,45 ,2 ,2]\n",
    "cnt=lst.count(2)\n",
    "print(cnt)"
   ]
  },
  {
   "cell_type": "markdown",
   "id": "d7e1c594",
   "metadata": {},
   "source": [
    "Q34. Write a program which prints the reverse list of the given list:\n",
    "Lst = [15, 22, 35, 24, 65]\n"
   ]
  },
  {
   "cell_type": "code",
   "execution_count": 21,
   "id": "37bbd405",
   "metadata": {},
   "outputs": [
    {
     "name": "stdout",
     "output_type": "stream",
     "text": [
      "[65, 24, 35, 22, 15]\n"
     ]
    }
   ],
   "source": [
    "lst = [15,22,35,24,65]\n",
    "print(lst[::-1])"
   ]
  },
  {
   "cell_type": "markdown",
   "id": "9e11949d",
   "metadata": {},
   "source": [
    "Q35. Write a program to which add the element 7 at the last of list Lst\n",
    "= [4, 2, 5, 1, 3, 6, 8, 10, 3, 5], then sort the list. Print the list after\n",
    "these operations."
   ]
  },
  {
   "cell_type": "code",
   "execution_count": 22,
   "id": "ef883c10",
   "metadata": {},
   "outputs": [
    {
     "name": "stdout",
     "output_type": "stream",
     "text": [
      "[1, 2, 3, 3, 4, 5, 5, 6, 7, 8, 10]\n"
     ]
    }
   ],
   "source": [
    "lst = [4, 2, 5, 1, 3, 6, 8, 10, 3, 5]\n",
    "lst.append(7)\n",
    "lst.sort()\n",
    "print(lst)"
   ]
  },
  {
   "cell_type": "markdown",
   "id": "14771593",
   "metadata": {},
   "source": [
    "Q36. Write a program which insert the element 10 at index 1 in the\n",
    "list Lst = [12, 24, 35, 24, 45], then remove the element 35. Print the\n",
    "list after these operations."
   ]
  },
  {
   "cell_type": "code",
   "execution_count": 23,
   "id": "91d7615e",
   "metadata": {},
   "outputs": [
    {
     "name": "stdout",
     "output_type": "stream",
     "text": [
      "[12, 10, 24, 24, 45]\n"
     ]
    }
   ],
   "source": [
    "lst = [12, 24, 35, 24, 45]\n",
    "lst.insert(1,10)\n",
    "lst.remove(35)\n",
    "print(lst)\n"
   ]
  },
  {
   "cell_type": "markdown",
   "id": "98cf253b",
   "metadata": {},
   "source": [
    "Q37. Write a python program which iterates the given list prints all\n",
    "the values inside the list via loop .\n",
    "lst = ['mango','apple','banana','ornage','kiwi']"
   ]
  },
  {
   "cell_type": "code",
   "execution_count": 24,
   "id": "90553f44",
   "metadata": {},
   "outputs": [
    {
     "name": "stdout",
     "output_type": "stream",
     "text": [
      "mango\n",
      "apple\n",
      "banana\n",
      "ornage\n",
      "kiwi\n"
     ]
    }
   ],
   "source": [
    "lst = ['mango','apple','banana','ornage','kiwi']\n",
    "for i in lst:\n",
    "    print(i)\n"
   ]
  },
  {
   "cell_type": "markdown",
   "id": "6f161474",
   "metadata": {},
   "source": [
    "Q38. Write a python program which finds the sum to all the elements\n",
    "of the list by iterating that given list"
   ]
  },
  {
   "cell_type": "markdown",
   "id": "b25593dd",
   "metadata": {},
   "source": [
    "lst = [2,4,6,8,12,10,14,24]\n"
   ]
  },
  {
   "cell_type": "code",
   "execution_count": 25,
   "id": "1c750951",
   "metadata": {},
   "outputs": [
    {
     "name": "stdout",
     "output_type": "stream",
     "text": [
      "80\n"
     ]
    }
   ],
   "source": [
    "lst = [2,4,6,8,12,10,14,24]\n",
    "sum1=0\n",
    "sum1=sum(lst)\n",
    "print(sum1)"
   ]
  },
  {
   "cell_type": "markdown",
   "id": "afdef37d",
   "metadata": {},
   "source": [
    "Q39. Write a python program which finds the value (n) in the given list\n",
    "= [4,5,3,2,1,6,8], if present then return True otherwise False.\n",
    "Note: ‘n’ can be any input value."
   ]
  },
  {
   "cell_type": "code",
   "execution_count": 28,
   "id": "a8c4dbbf",
   "metadata": {},
   "outputs": [
    {
     "name": "stdout",
     "output_type": "stream",
     "text": [
      "True\n"
     ]
    }
   ],
   "source": [
    "lst = [4,5,3,2,1,6,8]\n",
    "num = int(input(\"\"))\n",
    "if num in lst:\n",
    "    print(\"True\")\n",
    "else:\n",
    "    print(\"False\")"
   ]
  },
  {
   "cell_type": "markdown",
   "id": "06fd8d19",
   "metadata": {},
   "source": [
    "Q40. Write a python program which update odd indices elements of\n",
    "the list by ‘hii’ through iterating that given list.\n"
   ]
  },
  {
   "cell_type": "code",
   "execution_count": 38,
   "id": "b01a200a",
   "metadata": {},
   "outputs": [
    {
     "name": "stdout",
     "output_type": "stream",
     "text": [
      "[2, 4, 6, 8, 'hii']\n"
     ]
    }
   ],
   "source": [
    "lst = [2,4,6,8,1]\n",
    "lst1=[]\n",
    "for i in lst:\n",
    "    if i%2!=0:\n",
    "        lst1.append(\"hii\")\n",
    "    else:\n",
    "        lst1.append(i)\n",
    "print(lst1)"
   ]
  },
  {
   "cell_type": "markdown",
   "id": "88f2486e",
   "metadata": {},
   "source": [
    "Q41. Write a python program which finds and print the average of\n",
    "elements of the given list of integers.\n",
    "lst = [10,45,23,46,98,56]\n",
    "Note: If list changes your code should work properly."
   ]
  },
  {
   "cell_type": "code",
   "execution_count": 39,
   "id": "75844a6a",
   "metadata": {},
   "outputs": [
    {
     "name": "stdout",
     "output_type": "stream",
     "text": [
      "46.333333333333336\n"
     ]
    }
   ],
   "source": [
    "lst = [10,45,23,46,98,56]\n",
    "lenth= len(lst)\n",
    "sume=sum(lst)\n",
    "print(sume/lenth)"
   ]
  },
  {
   "cell_type": "markdown",
   "id": "ee9ad9b1",
   "metadata": {},
   "source": [
    "Q42. Write a python program which finds the sum of squares of all the\n",
    "elements of the given list.\n"
   ]
  },
  {
   "cell_type": "code",
   "execution_count": 40,
   "id": "87cc4816",
   "metadata": {},
   "outputs": [
    {
     "name": "stdout",
     "output_type": "stream",
     "text": [
      "121\n"
     ]
    }
   ],
   "source": [
    "lst = [2,4,6,8,1]\n",
    "sum_squar=0\n",
    "for i in lst:\n",
    "    sum_squar+=i**2\n",
    "print(sum_squar)"
   ]
  },
  {
   "cell_type": "markdown",
   "id": "b8fd9634",
   "metadata": {},
   "source": [
    "Q43. Write a python program to divide the list into two equal halves\n",
    "and print the sum of each half.\n"
   ]
  }
 ],
 "metadata": {
  "kernelspec": {
   "display_name": "base",
   "language": "python",
   "name": "python3"
  },
  "language_info": {
   "codemirror_mode": {
    "name": "ipython",
    "version": 3
   },
   "file_extension": ".py",
   "mimetype": "text/x-python",
   "name": "python",
   "nbconvert_exporter": "python",
   "pygments_lexer": "ipython3",
   "version": "3.12.7"
  }
 },
 "nbformat": 4,
 "nbformat_minor": 5
}
